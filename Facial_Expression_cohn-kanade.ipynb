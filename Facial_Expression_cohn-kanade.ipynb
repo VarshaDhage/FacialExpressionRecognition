{
 "cells": [
  {
   "cell_type": "code",
   "execution_count": 1,
   "metadata": {},
   "outputs": [],
   "source": [
    "import numpy as np\n",
    "from numpy import *\n",
    "import cv2\n",
    "import glob \n",
    "import os\n",
    "from PIL import Image\n",
    "import matplotlib.pyplot as plt"
   ]
  },
  {
   "cell_type": "code",
   "execution_count": 2,
   "metadata": {},
   "outputs": [],
   "source": [
    "face_cascade = cv2.CascadeClassifier('haarcascade_frontalface_default.xml')\n",
    "eye_cascade = cv2.CascadeClassifier('haarcascade_eye.xml')"
   ]
  },
  {
   "cell_type": "code",
   "execution_count": 3,
   "metadata": {},
   "outputs": [],
   "source": [
    "label = []\n"
   ]
  },
  {
   "cell_type": "code",
   "execution_count": 4,
   "metadata": {},
   "outputs": [],
   "source": [
    "path1 ='./dataset/PreprocessedImages/Images/'\n",
    "path2 = './dataset/ReadyToTrain/Images/'"
   ]
  },
  {
   "cell_type": "code",
   "execution_count": 5,
   "metadata": {},
   "outputs": [],
   "source": [
    "def listImages(directory):\n",
    "    filelist = os.listdir(directory)\n",
    "    return [x for x in filelist\n",
    "            if not (x.startswith('.'))]"
   ]
  },
  {
   "cell_type": "code",
   "execution_count": 6,
   "metadata": {},
   "outputs": [],
   "source": [
    "rootDir = './dataset/cohn-kanade-images';\n",
    "for dirs in os.walk(rootDir):\n",
    "    #print(sub_directory[1])\n",
    "    for i in dirs[1]:\n",
    "         for sub_directory in os.walk(rootDir+'/'+i):\n",
    "            #print(sub_directory)\n",
    "            for j in sub_directory[1]:\n",
    "                #print(j)\n",
    "               \n",
    "              \n",
    "              \n",
    "                if os.path.exists('./Emotion_labels/Emotion'+'/'+i+ '/'+ j) == True :\n",
    "                    Images = listImages(rootDir+'/'+i+ '/'+ j);\n",
    "                    #Images = os.listdir(rootDir+'/'+i+ '/'+ j);\n",
    "                    for k, filename in enumerate(os.listdir('./Emotion_labels/Emotion'+'/'+i+ '/'+ j)):\n",
    "                        #first k is .DS_store\n",
    "                        if filename.endswith(\".txt\"):\n",
    "                            with open('./Emotion_labels/Emotion'+'/'+i+ '/'+ j +'/'+ filename) as f:\n",
    "                   \n",
    "                                lines = f.readlines()\n",
    "                                for line in lines:\n",
    "                                    image_label= int(line.split('.')[0]);\n",
    "                                 \n",
    "                            f.close()\n",
    "                            ImageGroup = [];\n",
    "                            im = Image.open(rootDir+'/'+i+ '/'+ j + '\\\\' + Images[0])   \n",
    "                            #gray = im.convert('L')\n",
    "                            #gray.save(path1 +'\\\\' +  Images[0], \"JPEG\")\n",
    "                            ImageGroup.append(rootDir+'/'+i+ '/'+ j + '\\\\' + Images[0]);\n",
    "                        \n",
    "                            im = Image.open(rootDir+'/'+i+ '/'+ j  + '\\\\' + Images[1])   \n",
    "                            #gray = im.convert('L')\n",
    "                            #gray.save(path1 +'\\\\' + Images[1], \"JPEG\")\n",
    "                            ImageGroup.append(rootDir+'/'+i+ '/'+ j  + '\\\\' + Images[1]);\n",
    "\n",
    "                            im = Image.open(rootDir+'/'+i+ '/'+ j  + '\\\\' + Images[len(Images)-1])   \n",
    "                            #gray = im.convert('L')\n",
    "                            #gray.save(path1 +'\\\\' +  Images[len(Images)-1], \"JPEG\")\n",
    "                            ImageGroup.append(rootDir+'/'+i+ '/'+ j  + '\\\\' + Images[len(Images)-1]);\n",
    "\n",
    "                            im = Image.open(rootDir+'/'+i+ '/'+ j  + '\\\\' + Images[len(Images)-2])   \n",
    "                            #gray = im.convert('L')\n",
    "                            #gray.save(path1 +'\\\\' +  Images[len(Images)-2], \"JPEG\")\n",
    "                            ImageGroup.append(rootDir+'/'+i+ '/'+ j  + '\\\\' + Images[len(Images)-2]);\n",
    "                \n",
    "                            im = Image.open(rootDir+'/'+i+ '/'+ j  + '\\\\' + Images[len(Images)-3])   \n",
    "                            #gray = im.convert('L')\n",
    "                            #gray.save(path1 +'\\\\' +  Images[len(Images)-3], \"JPEG\")\n",
    "                            ImageGroup.append(rootDir+'/'+i+ '/'+ j  + '\\\\' + Images[len(Images)-3]);\n",
    "     \n",
    "                            for image in ImageGroup:\n",
    "                            \n",
    "                                img = cv2.imread(image)\n",
    "                                gray = cv2.cvtColor(img, cv2.COLOR_BGR2GRAY)\n",
    "                                faces = face_cascade.detectMultiScale(gray, 1.3, 5)\n",
    "                                for (x,y,w,h) in faces:\n",
    "                                    img = cv2.rectangle(img,(x,y),(x+w,y+h),(255,0,0),2)\n",
    "                                    roi_gray = gray[y:y+h, x:x+w]\n",
    "                                    roi_color = img[y:y+h, x:x+w]\n",
    "                                    cropped = img[y:y+h, x:x+w]    # To crop the image to get ROI.\n",
    "        \n",
    "                                #eyes = eye_cascade.detectMultiScale(roi_gray)\n",
    "                                #for (ex,ey,ew,eh) in eyes:\n",
    "                                #  cv2.rectangle(roi_color,(ex,ey),(ex+ew,ey+eh),(0,255,0),2)\n",
    "                                img_to_yuv = cv2.cvtColor(img,cv2.COLOR_BGR2YUV)\n",
    "                                img_to_yuv[:,:,0] = cv2.equalizeHist(img_to_yuv[:,:,0])\n",
    "                                hist_equalization_result = cv2.cvtColor(img_to_yuv, cv2.COLOR_YUV2BGR)\n",
    "                                #print(image.split(\"\\\\\"));\n",
    "                                cv2.imwrite(path1+image.split(\"\\\\\")[1],cropped)\n",
    "    \n",
    "    \n",
    "                \n",
    "                \n",
    "                \n",
    "                \n",
    "                            label.append(0);\n",
    "                            label.append(0);\n",
    "                            label.append(image_label);\n",
    "                            label.append(image_label);\n",
    "                            label.append(image_label);\n",
    "                \n",
    "                "
   ]
  },
  {
   "cell_type": "code",
   "execution_count": 7,
   "metadata": {},
   "outputs": [
    {
     "data": {
      "text/plain": [
       "1635"
      ]
     },
     "execution_count": 7,
     "metadata": {},
     "output_type": "execute_result"
    }
   ],
   "source": [
    "len(label)"
   ]
  },
  {
   "cell_type": "code",
   "execution_count": 8,
   "metadata": {},
   "outputs": [
    {
     "name": "stderr",
     "output_type": "stream",
     "text": [
      "Using TensorFlow backend.\n"
     ]
    }
   ],
   "source": [
    "import keras\n",
    "import tensorflow as tf\n",
    "from keras.models import Sequential\n",
    "from keras.layers.core import Dense, Dropout, Activation, Flatten\n",
    "from keras.layers.convolutional import Convolution2D, MaxPooling2D\n",
    "from sklearn.model_selection import train_test_split\n",
    "from keras import optimizers\n",
    "import pandas as pd\n",
    "import numpy as np\n",
    "from skimage import exposure"
   ]
  },
  {
   "cell_type": "code",
   "execution_count": 9,
   "metadata": {},
   "outputs": [],
   "source": [
    "config = tf.ConfigProto()  #, device_count= {'GPU' : 1, 'CPU': 50}\n",
    "config.gpu_options.per_process_gpu_memory_fraction = 0.4\n",
    "session = tf.Session(config=config)\n",
    "keras.backend.set_session(session)"
   ]
  },
  {
   "cell_type": "code",
   "execution_count": 10,
   "metadata": {},
   "outputs": [],
   "source": [
    "from keras import backend as K\n",
    "K.set_image_dim_ordering('tf')\n"
   ]
  },
  {
   "cell_type": "code",
   "execution_count": 11,
   "metadata": {},
   "outputs": [],
   "source": [
    "import os\n",
    "from PIL import Image"
   ]
  },
  {
   "cell_type": "code",
   "execution_count": 12,
   "metadata": {},
   "outputs": [
    {
     "name": "stderr",
     "output_type": "stream",
     "text": [
      "C:\\Users\\Varsha\\AppData\\Local\\conda\\conda\\envs\\deeplearning\\lib\\site-packages\\sklearn\\cross_validation.py:41: DeprecationWarning: This module was deprecated in version 0.18 in favor of the model_selection module into which all the refactored classes and functions are moved. Also note that the interface of the new CV iterators are different from that of this module. This module will be removed in 0.20.\n",
      "  \"This module will be removed in 0.20.\", DeprecationWarning)\n"
     ]
    }
   ],
   "source": [
    "# SKLEARN\n",
    "from sklearn.utils import shuffle\n",
    "from sklearn.cross_validation import train_test_split\n",
    "from keras.utils import np_utils\n",
    "\n",
    "\n",
    "# input image dimensions\n",
    "img_rows, img_cols = 200, 200\n",
    "\n",
    "# number of channels\n",
    "img_channels = 1\n"
   ]
  },
  {
   "cell_type": "code",
   "execution_count": 13,
   "metadata": {},
   "outputs": [
    {
     "name": "stdout",
     "output_type": "stream",
     "text": [
      "1635\n"
     ]
    }
   ],
   "source": [
    "listing = os.listdir(path1) \n",
    "num_samples=size(listing)\n",
    "print(num_samples)"
   ]
  },
  {
   "cell_type": "code",
   "execution_count": 14,
   "metadata": {
    "scrolled": true
   },
   "outputs": [],
   "source": [
    "for file in listing:\n",
    "    im = Image.open(path1 + '\\\\' + file) \n",
    "    img = im.resize((img_rows,img_cols))\n",
    "    \n",
    "   \n",
    "    #need to do some more processing here    \n",
    "    gray = img.convert('L')\n",
    "    gray.save(path2 +'\\\\' +  file, \"JPEG\")\n"
   ]
  },
  {
   "cell_type": "code",
   "execution_count": 18,
   "metadata": {},
   "outputs": [
    {
     "name": "stdout",
     "output_type": "stream",
     "text": [
      "200\n",
      "200\n",
      "1635\n"
     ]
    }
   ],
   "source": [
    "imlist = os.listdir(path2)\n",
    "im1 = array(Image.open(path2 + '\\\\'+ imlist[0])) # open one image to get size\n",
    "m,n = im1.shape[0:2] # get the size of the images\n",
    "imnbr = len(imlist) # get the number of images\n",
    "print(m)\n",
    "print(n)\n",
    "print(imnbr)"
   ]
  },
  {
   "cell_type": "code",
   "execution_count": 19,
   "metadata": {},
   "outputs": [],
   "source": [
    "# create matrix to store all flattened images\n",
    "immatrix = array([array(Image.open(path2+ '\\\\' + im2)).flatten()\n",
    "              for im2 in imlist],'f')"
   ]
  },
  {
   "cell_type": "code",
   "execution_count": 20,
   "metadata": {},
   "outputs": [
    {
     "name": "stdout",
     "output_type": "stream",
     "text": [
      "(1635, 200, 200)\n"
     ]
    }
   ],
   "source": [
    "img_data_list=[]\n",
    "img_list=os.listdir(path2)\n",
    "for img in img_list:\n",
    "    input_img=cv2.imread(path2 + '\\\\'+ img )\n",
    "   \n",
    "    input_img=cv2.cvtColor(input_img, cv2.COLOR_BGR2GRAY)\n",
    "    input_img_resize=cv2.resize(input_img,(200,200))\n",
    "    img_data_list.append(input_img_resize)\n",
    "    \n",
    "\n",
    "img_data = np.array(img_data_list)\n",
    "img_data = img_data.astype('float32')\n",
    "img_data /= 255\n",
    "\n",
    "\n",
    "\n",
    "\n",
    "print (img_data.shape)\n"
   ]
  },
  {
   "cell_type": "code",
   "execution_count": 21,
   "metadata": {},
   "outputs": [],
   "source": [
    "num_channel=1"
   ]
  },
  {
   "cell_type": "code",
   "execution_count": 22,
   "metadata": {},
   "outputs": [
    {
     "name": "stdout",
     "output_type": "stream",
     "text": [
      "(1635, 200, 200, 1)\n"
     ]
    },
    {
     "name": "stderr",
     "output_type": "stream",
     "text": [
      "C:\\Users\\Varsha\\AppData\\Local\\conda\\conda\\envs\\deeplearning\\lib\\site-packages\\ipykernel_launcher.py:6: DeprecationWarning: Both axis > a.ndim and axis < -a.ndim - 1 are deprecated and will raise an AxisError in the future.\n",
      "  \n"
     ]
    }
   ],
   "source": [
    "if num_channel==1:\n",
    "\tif K.image_dim_ordering()=='th':\n",
    "\t\timg_data= np.expand_dims(img_data, axis=1) \n",
    "\t\tprint (img_data.shape)\n",
    "\telse:\n",
    "\t\timg_data= np.expand_dims(img_data, axis=4) \n",
    "\t\tprint (img_data.shape)\n",
    "\t\t\n",
    "else:\n",
    "\tif K.image_dim_ordering()=='th':\n",
    "\t\timg_data=np.rollaxis(img_data,3,1)\n",
    "\t\tprint (img_data.shape)\n",
    "\t\t\n",
    "#%%\n",
    "USE_SKLEARN_PREPROCESSING=False"
   ]
  },
  {
   "cell_type": "code",
   "execution_count": 26,
   "metadata": {},
   "outputs": [],
   "source": [
    "#batch_size to train\n",
    "batch_size = 32\n",
    "# number of output classes\n",
    "nb_classes = 8\n",
    "# number of epochs to train\n",
    "nb_epoch = 20"
   ]
  },
  {
   "cell_type": "code",
   "execution_count": 27,
   "metadata": {},
   "outputs": [
    {
     "name": "stdout",
     "output_type": "stream",
     "text": [
      "[0. 0. 0. 1. 0. 0. 0. 0.]\n",
      "(200, 200, 1)\n",
      "(1635, 8)\n"
     ]
    }
   ],
   "source": [
    "# convert class labels to on-hot encoding\n",
    "Y = np_utils.to_categorical(label, nb_classes)\n",
    "print(Y[2]);\n",
    "#Shuffle the dataset\n",
    "x,y = shuffle(img_data,Y, random_state=2)\n",
    "# Split the dataset\n",
    "X_train, X_test, y_train, y_test = train_test_split(x, y, test_size=0.2, random_state=2)\n",
    "\n",
    "#%%\n",
    "# Defining the model\n",
    "input_shape=img_data[0].shape\n",
    "print(input_shape);\n",
    "print(Y.shape);"
   ]
  },
  {
   "cell_type": "code",
   "execution_count": 28,
   "metadata": {},
   "outputs": [],
   "source": [
    "# number of convolutional filters to use\n",
    "nb_filters = 32\n",
    "# size of pooling area for max pooling\n",
    "nb_pool = 3\n",
    "# convolution kernel size\n",
    "nb_conv = 3"
   ]
  },
  {
   "cell_type": "code",
   "execution_count": 29,
   "metadata": {},
   "outputs": [
    {
     "name": "stdout",
     "output_type": "stream",
     "text": [
      "[[[[0.07058824]\n",
      "   [0.17254902]\n",
      "   [0.11764706]\n",
      "   ...\n",
      "   [0.10588235]\n",
      "   [0.16078432]\n",
      "   [0.07843138]]\n",
      "\n",
      "  [[0.11764706]\n",
      "   [0.24313726]\n",
      "   [0.21176471]\n",
      "   ...\n",
      "   [0.3372549 ]\n",
      "   [0.3254902 ]\n",
      "   [0.17254902]]\n",
      "\n",
      "  [[0.11372549]\n",
      "   [0.26666668]\n",
      "   [0.2627451 ]\n",
      "   ...\n",
      "   [0.39215687]\n",
      "   [0.3372549 ]\n",
      "   [0.11764706]]\n",
      "\n",
      "  ...\n",
      "\n",
      "  [[0.12156863]\n",
      "   [0.24705882]\n",
      "   [0.26666668]\n",
      "   ...\n",
      "   [0.3529412 ]\n",
      "   [0.3137255 ]\n",
      "   [0.11372549]]\n",
      "\n",
      "  [[0.16862746]\n",
      "   [0.26666668]\n",
      "   [0.25882354]\n",
      "   ...\n",
      "   [0.32941177]\n",
      "   [0.3254902 ]\n",
      "   [0.16470589]]\n",
      "\n",
      "  [[0.07450981]\n",
      "   [0.14901961]\n",
      "   [0.10980392]\n",
      "   ...\n",
      "   [0.10980392]\n",
      "   [0.16470589]\n",
      "   [0.0627451 ]]]\n",
      "\n",
      "\n",
      " [[[0.04313726]\n",
      "   [0.15686275]\n",
      "   [0.11372549]\n",
      "   ...\n",
      "   [0.05490196]\n",
      "   [0.19215687]\n",
      "   [0.05490196]]\n",
      "\n",
      "  [[0.15686275]\n",
      "   [0.30980393]\n",
      "   [0.30588236]\n",
      "   ...\n",
      "   [0.41960785]\n",
      "   [0.4509804 ]\n",
      "   [0.17254902]]\n",
      "\n",
      "  [[0.11764706]\n",
      "   [0.30980393]\n",
      "   [0.34509805]\n",
      "   ...\n",
      "   [0.42745098]\n",
      "   [0.43137255]\n",
      "   [0.06666667]]\n",
      "\n",
      "  ...\n",
      "\n",
      "  [[0.10196079]\n",
      "   [0.07450981]\n",
      "   [0.05882353]\n",
      "   ...\n",
      "   [0.0627451 ]\n",
      "   [0.06666667]\n",
      "   [0.10588235]]\n",
      "\n",
      "  [[0.10980392]\n",
      "   [0.08627451]\n",
      "   [0.07450981]\n",
      "   ...\n",
      "   [0.07450981]\n",
      "   [0.07058824]\n",
      "   [0.10196079]]\n",
      "\n",
      "  [[0.1254902 ]\n",
      "   [0.10588235]\n",
      "   [0.09803922]\n",
      "   ...\n",
      "   [0.11372549]\n",
      "   [0.09803922]\n",
      "   [0.1254902 ]]]\n",
      "\n",
      "\n",
      " [[[0.07058824]\n",
      "   [0.15686275]\n",
      "   [0.05098039]\n",
      "   ...\n",
      "   [0.05490196]\n",
      "   [0.23921569]\n",
      "   [0.0627451 ]]\n",
      "\n",
      "  [[0.16470589]\n",
      "   [0.5764706 ]\n",
      "   [0.627451  ]\n",
      "   ...\n",
      "   [0.5686275 ]\n",
      "   [0.54509807]\n",
      "   [0.13725491]]\n",
      "\n",
      "  [[0.06666667]\n",
      "   [0.50980395]\n",
      "   [0.49803922]\n",
      "   ...\n",
      "   [0.6156863 ]\n",
      "   [0.5803922 ]\n",
      "   [0.10588235]]\n",
      "\n",
      "  ...\n",
      "\n",
      "  [[0.07450981]\n",
      "   [0.39607844]\n",
      "   [0.41960785]\n",
      "   ...\n",
      "   [0.48235294]\n",
      "   [0.45882353]\n",
      "   [0.0627451 ]]\n",
      "\n",
      "  [[0.1882353 ]\n",
      "   [0.4117647 ]\n",
      "   [0.39215687]\n",
      "   ...\n",
      "   [0.4392157 ]\n",
      "   [0.46666667]\n",
      "   [0.17254902]]\n",
      "\n",
      "  [[0.07058824]\n",
      "   [0.1764706 ]\n",
      "   [0.08235294]\n",
      "   ...\n",
      "   [0.08627451]\n",
      "   [0.20392157]\n",
      "   [0.03529412]]]\n",
      "\n",
      "\n",
      " ...\n",
      "\n",
      "\n",
      " [[[0.06666667]\n",
      "   [0.18039216]\n",
      "   [0.1254902 ]\n",
      "   ...\n",
      "   [0.06666667]\n",
      "   [0.19607843]\n",
      "   [0.05490196]]\n",
      "\n",
      "  [[0.15686275]\n",
      "   [0.3254902 ]\n",
      "   [0.3372549 ]\n",
      "   ...\n",
      "   [0.40392157]\n",
      "   [0.4509804 ]\n",
      "   [0.1882353 ]]\n",
      "\n",
      "  [[0.10980392]\n",
      "   [0.32156864]\n",
      "   [0.37254903]\n",
      "   ...\n",
      "   [0.43137255]\n",
      "   [0.42745098]\n",
      "   [0.0627451 ]]\n",
      "\n",
      "  ...\n",
      "\n",
      "  [[0.09803922]\n",
      "   [0.26666668]\n",
      "   [0.28627452]\n",
      "   ...\n",
      "   [0.32156864]\n",
      "   [0.3019608 ]\n",
      "   [0.12156863]]\n",
      "\n",
      "  [[0.15294118]\n",
      "   [0.28235295]\n",
      "   [0.26666668]\n",
      "   ...\n",
      "   [0.29411766]\n",
      "   [0.30588236]\n",
      "   [0.16078432]]\n",
      "\n",
      "  [[0.06666667]\n",
      "   [0.15686275]\n",
      "   [0.10196079]\n",
      "   ...\n",
      "   [0.12156863]\n",
      "   [0.16470589]\n",
      "   [0.04705882]]]\n",
      "\n",
      "\n",
      " [[[0.09803922]\n",
      "   [0.13725491]\n",
      "   [0.12941177]\n",
      "   ...\n",
      "   [0.10980392]\n",
      "   [0.13725491]\n",
      "   [0.06666667]]\n",
      "\n",
      "  [[0.14509805]\n",
      "   [0.19607843]\n",
      "   [0.20392157]\n",
      "   ...\n",
      "   [0.22352941]\n",
      "   [0.24313726]\n",
      "   [0.16078432]]\n",
      "\n",
      "  [[0.10980392]\n",
      "   [0.1764706 ]\n",
      "   [0.19607843]\n",
      "   ...\n",
      "   [0.21960784]\n",
      "   [0.22745098]\n",
      "   [0.12941177]]\n",
      "\n",
      "  ...\n",
      "\n",
      "  [[0.10588235]\n",
      "   [0.08235294]\n",
      "   [0.06666667]\n",
      "   ...\n",
      "   [0.22745098]\n",
      "   [0.20784314]\n",
      "   [0.12941177]]\n",
      "\n",
      "  [[0.10196079]\n",
      "   [0.08235294]\n",
      "   [0.06666667]\n",
      "   ...\n",
      "   [0.20784314]\n",
      "   [0.19607843]\n",
      "   [0.1254902 ]]\n",
      "\n",
      "  [[0.13333334]\n",
      "   [0.11372549]\n",
      "   [0.10196079]\n",
      "   ...\n",
      "   [0.13333334]\n",
      "   [0.13333334]\n",
      "   [0.07058824]]]\n",
      "\n",
      "\n",
      " [[[0.07843138]\n",
      "   [0.15686275]\n",
      "   [0.12156863]\n",
      "   ...\n",
      "   [0.11372549]\n",
      "   [0.16862746]\n",
      "   [0.07058824]]\n",
      "\n",
      "  [[0.15686275]\n",
      "   [0.25882354]\n",
      "   [0.2509804 ]\n",
      "   ...\n",
      "   [0.26666668]\n",
      "   [0.2901961 ]\n",
      "   [0.16862746]]\n",
      "\n",
      "  [[0.10980392]\n",
      "   [0.24313726]\n",
      "   [0.26666668]\n",
      "   ...\n",
      "   [0.27058825]\n",
      "   [0.26666668]\n",
      "   [0.11372549]]\n",
      "\n",
      "  ...\n",
      "\n",
      "  [[0.12156863]\n",
      "   [0.20392157]\n",
      "   [0.22745098]\n",
      "   ...\n",
      "   [0.18431373]\n",
      "   [0.17254902]\n",
      "   [0.10196079]]\n",
      "\n",
      "  [[0.14509805]\n",
      "   [0.21568628]\n",
      "   [0.22352941]\n",
      "   ...\n",
      "   [0.19607843]\n",
      "   [0.19215687]\n",
      "   [0.13333334]]\n",
      "\n",
      "  [[0.07450981]\n",
      "   [0.13333334]\n",
      "   [0.12941177]\n",
      "   ...\n",
      "   [0.1254902 ]\n",
      "   [0.13333334]\n",
      "   [0.07843138]]]]\n"
     ]
    }
   ],
   "source": [
    "# STEP 1: split X and y into training and testing sets\n",
    "\n",
    "X_train, X_test, y_train, y_test = train_test_split(x, y, test_size=0.2, random_state=2)\n",
    "#plt.imshow(X_test[1])\n",
    "#plt.show()\n",
    "print(X_test);"
   ]
  },
  {
   "cell_type": "code",
   "execution_count": 30,
   "metadata": {},
   "outputs": [],
   "source": [
    "X_train = X_train.astype('float32')\n",
    "X_test = X_test.astype('float32')"
   ]
  },
  {
   "cell_type": "code",
   "execution_count": 31,
   "metadata": {},
   "outputs": [
    {
     "name": "stdout",
     "output_type": "stream",
     "text": [
      "X_train shape: (1308, 200, 200, 1)\n",
      "1308 train samples\n",
      "327 test samples\n",
      "[[[0.11372549]\n",
      "  [0.09411765]\n",
      "  [0.11764706]\n",
      "  ...\n",
      "  [0.11372549]\n",
      "  [0.12156863]\n",
      "  [0.10196079]]\n",
      "\n",
      " [[0.11372549]\n",
      "  [0.10980392]\n",
      "  [0.15294118]\n",
      "  ...\n",
      "  [0.12941177]\n",
      "  [0.12941177]\n",
      "  [0.08627451]]\n",
      "\n",
      " [[0.10980392]\n",
      "  [0.1254902 ]\n",
      "  [0.19215687]\n",
      "  ...\n",
      "  [0.23921569]\n",
      "  [0.22745098]\n",
      "  [0.14509805]]\n",
      "\n",
      " ...\n",
      "\n",
      " [[0.10980392]\n",
      "  [0.09803922]\n",
      "  [0.08235294]\n",
      "  ...\n",
      "  [0.20392157]\n",
      "  [0.19607843]\n",
      "  [0.12941177]]\n",
      "\n",
      " [[0.10588235]\n",
      "  [0.09019608]\n",
      "  [0.07843138]\n",
      "  ...\n",
      "  [0.19215687]\n",
      "  [0.1882353 ]\n",
      "  [0.12156863]]\n",
      "\n",
      " [[0.12941177]\n",
      "  [0.11764706]\n",
      "  [0.10588235]\n",
      "  ...\n",
      "  [0.14117648]\n",
      "  [0.14117648]\n",
      "  [0.07843138]]]\n"
     ]
    }
   ],
   "source": [
    "print('X_train shape:', X_train.shape)\n",
    "print(X_train.shape[0], 'train samples')\n",
    "print(X_test.shape[0], 'test samples')\n",
    "print(X_train[1])"
   ]
  },
  {
   "cell_type": "code",
   "execution_count": 32,
   "metadata": {},
   "outputs": [
    {
     "name": "stderr",
     "output_type": "stream",
     "text": [
      "C:\\Users\\Varsha\\AppData\\Local\\conda\\conda\\envs\\deeplearning\\lib\\site-packages\\ipykernel_launcher.py:2: UserWarning: Update your `Conv2D` call to the Keras 2 API: `Conv2D(32, (3, 3), input_shape=(200, 200,..., padding=\"same\")`\n",
      "  \n",
      "C:\\Users\\Varsha\\AppData\\Local\\conda\\conda\\envs\\deeplearning\\lib\\site-packages\\ipykernel_launcher.py:4: UserWarning: Update your `Conv2D` call to the Keras 2 API: `Conv2D(32, (3, 3))`\n",
      "  after removing the cwd from sys.path.\n"
     ]
    }
   ],
   "source": [
    "model = Sequential()\n",
    "model.add(Convolution2D(32, 3,3,border_mode='same',input_shape=input_shape))\n",
    "model.add(Activation('relu'))\n",
    "model.add(Convolution2D(32, 3, 3))\n",
    "model.add(Activation('relu'))\n",
    "model.add(MaxPooling2D(pool_size=(2, 2)))\n",
    "#model.add(Dropout(0.5))"
   ]
  },
  {
   "cell_type": "code",
   "execution_count": 33,
   "metadata": {},
   "outputs": [
    {
     "name": "stderr",
     "output_type": "stream",
     "text": [
      "C:\\Users\\Varsha\\AppData\\Local\\conda\\conda\\envs\\deeplearning\\lib\\site-packages\\ipykernel_launcher.py:1: UserWarning: Update your `Conv2D` call to the Keras 2 API: `Conv2D(64, (3, 3))`\n",
      "  \"\"\"Entry point for launching an IPython kernel.\n",
      "C:\\Users\\Varsha\\AppData\\Local\\conda\\conda\\envs\\deeplearning\\lib\\site-packages\\ipykernel_launcher.py:3: UserWarning: Update your `Conv2D` call to the Keras 2 API: `Conv2D(64, (3, 3))`\n",
      "  This is separate from the ipykernel package so we can avoid doing imports until\n"
     ]
    }
   ],
   "source": [
    "model.add(Convolution2D(64, 3, 3))\n",
    "model.add(Activation('relu'))\n",
    "model.add(Convolution2D(64, 3, 3))\n",
    "model.add(Activation('relu'))\n",
    "model.add(MaxPooling2D(pool_size=(2, 2)))\n",
    "model.add(Dropout(0.5))\n"
   ]
  },
  {
   "cell_type": "code",
   "execution_count": 34,
   "metadata": {},
   "outputs": [],
   "source": [
    "model.add(Flatten())\n",
    "model.add(Dense(64))\n",
    "model.add(Activation('relu'))\n",
    "#model.add(Dropout(0.5))\n",
    "model.add(Dense(nb_classes))\n",
    "model.add(Activation('softmax'))"
   ]
  },
  {
   "cell_type": "code",
   "execution_count": 35,
   "metadata": {},
   "outputs": [],
   "source": [
    "#sgd = optimizers.SGD(lr=0.5, decay=1e-6, momentum=0.9, nesterov=True)\n",
    "#model.compile(loss='categorical_crossentropy', optimizer=sgd,metrics=[\"accuracy\"])\n",
    "adam = keras.optimizers.Adam(lr=0.5)\n",
    "model.compile(loss='categorical_crossentropy', optimizer='rmsprop',metrics=[\"accuracy\"])\n",
    "\n",
    "#model.compile(loss='categorical_crossentropy', optimizer=adam,metrics=[\"accuracy\"])\n",
    "#model.compile(loss='mean_squared_error', optimizer=sgd,metrics=[\"accuracy\"])\n"
   ]
  },
  {
   "cell_type": "code",
   "execution_count": 36,
   "metadata": {},
   "outputs": [
    {
     "name": "stdout",
     "output_type": "stream",
     "text": [
      "_________________________________________________________________\n",
      "Layer (type)                 Output Shape              Param #   \n",
      "=================================================================\n",
      "conv2d_1 (Conv2D)            (None, 200, 200, 32)      320       \n",
      "_________________________________________________________________\n",
      "activation_1 (Activation)    (None, 200, 200, 32)      0         \n",
      "_________________________________________________________________\n",
      "conv2d_2 (Conv2D)            (None, 198, 198, 32)      9248      \n",
      "_________________________________________________________________\n",
      "activation_2 (Activation)    (None, 198, 198, 32)      0         \n",
      "_________________________________________________________________\n",
      "max_pooling2d_1 (MaxPooling2 (None, 99, 99, 32)        0         \n",
      "_________________________________________________________________\n",
      "conv2d_3 (Conv2D)            (None, 97, 97, 64)        18496     \n",
      "_________________________________________________________________\n",
      "activation_3 (Activation)    (None, 97, 97, 64)        0         \n",
      "_________________________________________________________________\n",
      "conv2d_4 (Conv2D)            (None, 95, 95, 64)        36928     \n",
      "_________________________________________________________________\n",
      "activation_4 (Activation)    (None, 95, 95, 64)        0         \n",
      "_________________________________________________________________\n",
      "max_pooling2d_2 (MaxPooling2 (None, 47, 47, 64)        0         \n",
      "_________________________________________________________________\n",
      "dropout_1 (Dropout)          (None, 47, 47, 64)        0         \n",
      "_________________________________________________________________\n",
      "flatten_1 (Flatten)          (None, 141376)            0         \n",
      "_________________________________________________________________\n",
      "dense_1 (Dense)              (None, 64)                9048128   \n",
      "_________________________________________________________________\n",
      "activation_5 (Activation)    (None, 64)                0         \n",
      "_________________________________________________________________\n",
      "dense_2 (Dense)              (None, 8)                 520       \n",
      "_________________________________________________________________\n",
      "activation_6 (Activation)    (None, 8)                 0         \n",
      "=================================================================\n",
      "Total params: 9,113,640\n",
      "Trainable params: 9,113,640\n",
      "Non-trainable params: 0\n",
      "_________________________________________________________________\n"
     ]
    },
    {
     "data": {
      "text/plain": [
       "True"
      ]
     },
     "execution_count": 36,
     "metadata": {},
     "output_type": "execute_result"
    }
   ],
   "source": [
    "# Viewing model_configuration\n",
    "\n",
    "model.summary()\n",
    "model.get_config()\n",
    "model.layers[0].get_config()\n",
    "model.layers[0].input_shape\n",
    "model.layers[0].output_shape\n",
    "model.layers[0].get_weights()\n",
    "np.shape(model.layers[0].get_weights()[0])\n",
    "model.layers[0].trainable"
   ]
  },
  {
   "cell_type": "code",
   "execution_count": null,
   "metadata": {},
   "outputs": [
    {
     "name": "stdout",
     "output_type": "stream",
     "text": [
      "Train on 1308 samples, validate on 327 samples\n",
      "Epoch 1/10\n",
      "1308/1308 [==============================] - 738s 564ms/step - loss: 14.0790 - acc: 0.1032 - val_loss: 14.3436 - val_acc: 0.1101\n",
      "Epoch 2/10\n",
      "1308/1308 [==============================] - 491s 375ms/step - loss: 14.3806 - acc: 0.1078 - val_loss: 14.3436 - val_acc: 0.1101\n",
      "Epoch 3/10\n",
      "1308/1308 [==============================] - 495s 378ms/step - loss: 14.3806 - acc: 0.1078 - val_loss: 14.3436 - val_acc: 0.1101\n",
      "Epoch 4/10\n",
      "1308/1308 [==============================] - 497s 380ms/step - loss: 14.3806 - acc: 0.1078 - val_loss: 14.3436 - val_acc: 0.1101\n",
      "Epoch 5/10\n",
      "1308/1308 [==============================] - 499s 381ms/step - loss: 14.3806 - acc: 0.1078 - val_loss: 14.3436 - val_acc: 0.1101\n",
      "Epoch 6/10\n",
      "1308/1308 [==============================] - 495s 379ms/step - loss: 14.3806 - acc: 0.1078 - val_loss: 14.3436 - val_acc: 0.1101\n",
      "Epoch 7/10\n",
      "1308/1308 [==============================] - 485s 371ms/step - loss: 14.3806 - acc: 0.1078 - val_loss: 14.3436 - val_acc: 0.1101\n",
      "Epoch 8/10\n",
      "1308/1308 [==============================] - 493s 377ms/step - loss: 14.3806 - acc: 0.1078 - val_loss: 14.3436 - val_acc: 0.1101\n",
      "Epoch 9/10\n",
      "1308/1308 [==============================] - 493s 377ms/step - loss: 14.3806 - acc: 0.1078 - val_loss: 14.3436 - val_acc: 0.1101\n",
      "Epoch 10/10\n",
      " 928/1308 [====================>.........] - ETA: 2:44:19 - loss: 14.4681 - acc: 0.1024"
     ]
    }
   ],
   "source": [
    "#%%\n",
    "#from keras.callbacks import ModelCheckpoint\n",
    "#from keras.callbacks import ModelCheckpoint\n",
    "# save best weights\n",
    "#checkpointer = ModelCheckpoint(filepath='face_model.h5', verbose=1, save_best_only=True)\n",
    "\n",
    "nb_epoch=10\n",
    "\n",
    "# Training\n",
    "hist = model.fit(X_train, y_train, epochs=nb_epoch, verbose=1, validation_data=(X_test, y_test),  shuffle=True)\n",
    "\n",
    "#hist = model.fit(X_train, y_train, epochs=nb_epoch, verbose=1, validation_data=(X_test, y_test))\n",
    "\n"
   ]
  },
  {
   "cell_type": "code",
   "execution_count": 32,
   "metadata": {},
   "outputs": [],
   "source": [
    "model.save('EmotionRecognitionCK+D5.model')\n"
   ]
  },
  {
   "cell_type": "code",
   "execution_count": 52,
   "metadata": {},
   "outputs": [],
   "source": [
    "from sklearn.metrics import confusion_matrix"
   ]
  },
  {
   "cell_type": "code",
   "execution_count": 44,
   "metadata": {},
   "outputs": [],
   "source": [
    "def plot_history(history):\n",
    "    loss_list = [s for s in history.history.keys() if 'loss' in s and 'val' not in s]\n",
    "    val_loss_list = [s for s in history.history.keys() if 'loss' in s and 'val' in s]\n",
    "    acc_list = [s for s in history.history.keys() if 'acc' in s and 'val' not in s]\n",
    "    val_acc_list = [s for s in history.history.keys() if 'acc' in s and 'val' in s]\n",
    "    \n",
    "    if len(loss_list) == 0:\n",
    "        print('Loss is missing in history')\n",
    "        return \n",
    "    \n",
    "    ## As loss always exists\n",
    "    epochs = range(1,len(history.history[loss_list[0]]) + 1)\n",
    "    \n",
    "    ## Loss\n",
    "    plt.figure(1)\n",
    "    for l in loss_list:\n",
    "        plt.plot(epochs, history.history[l], 'b', label='Training loss (' + str(str(format(history.history[l][-1],'.5f'))+')'))\n",
    "    for l in val_loss_list:\n",
    "        plt.plot(epochs, history.history[l], 'g', label='Validation loss (' + str(str(format(history.history[l][-1],'.5f'))+')'))\n",
    "    \n",
    "    plt.title('Loss')\n",
    "    plt.xlabel('Epochs')\n",
    "    plt.ylabel('Loss')\n",
    "    plt.legend()\n",
    "    \n",
    "    ## Accuracy\n",
    "    plt.figure(2)\n",
    "    for l in acc_list:\n",
    "        plt.plot(epochs, history.history[l], 'b', label='Training accuracy (' + str(format(history.history[l][-1],'.5f'))+')')\n",
    "    for l in val_acc_list:    \n",
    "        plt.plot(epochs, history.history[l], 'g', label='Validation accuracy (' + str(format(history.history[l][-1],'.5f'))+')')\n",
    "\n",
    "    plt.title('Accuracy')\n",
    "    plt.xlabel('Epochs')\n",
    "    plt.ylabel('Accuracy')\n",
    "    plt.legend()\n",
    "    plt.show()"
   ]
  },
  {
   "cell_type": "code",
   "execution_count": 45,
   "metadata": {},
   "outputs": [
    {
     "data": {
      "image/png": "[encoded data removed]",
      "text/plain": [
       "<Figure size 432x288 with 1 Axes>"
      ]
     },
     "metadata": {},
     "output_type": "display_data"
    },
    {
     "data": {
      "image/png": "[encoded data removed]",
      "text/plain": [
       "<Figure size 432x288 with 1 Axes>"
      ]
     },
     "metadata": {},
     "output_type": "display_data"
    }
   ],
   "source": [
    "plot_history(hist);"
   ]
  },
  {
   "cell_type": "code",
   "execution_count": null,
   "metadata": {},
   "outputs": [],
   "source": []
  },
  {
   "cell_type": "code",
   "execution_count": 47,
   "metadata": {},
   "outputs": [],
   "source": [
    "## multiclass or binary report\n",
    "## If binary (sigmoid output), set binary parameter to True\n",
    "def full_multiclass_report(model,\n",
    "                           x,\n",
    "                           y_true,\n",
    "                           classes,\n",
    "                           batch_size=32,\n",
    "                           binary=False):\n",
    "\n",
    "    # 1. Transform one-hot encoded y_true into their class number\n",
    "    if not binary:\n",
    "        y_true = np.argmax(y_true,axis=1)\n",
    "    \n",
    "    # 2. Predict classes and stores in y_pred\n",
    "    y_pred = model.predict_classes(x, batch_size=batch_size)\n",
    "    \n",
    "    # 3. Print accuracy score\n",
    "    print(\"Accuracy : \"+ str(accuracy_score(y_true,y_pred)))\n",
    "    \n",
    "    print(\"\")\n",
    "    \n",
    "    # 4. Print classification report\n",
    "    print(\"Classification Report\")\n",
    "    print(classification_report(y_true,y_pred,digits=5))    \n",
    "    \n",
    "    # 5. Plot confusion matrix\n",
    "    cnf_matrix = confusion_matrix(y_true,y_pred)\n",
    "    print(cnf_matrix)\n",
    "    plot_confusion_matrix(cnf_matrix,classes=classes)"
   ]
  },
  {
   "cell_type": "code",
   "execution_count": 39,
   "metadata": {},
   "outputs": [],
   "source": [
    "new_model = tf.keras.models.load_model('EmotionRecognitionCK+D2.model')"
   ]
  },
  {
   "cell_type": "code",
   "execution_count": 40,
   "metadata": {
    "scrolled": true
   },
   "outputs": [
    {
     "name": "stdout",
     "output_type": "stream",
     "text": [
      "(16, 200, 200)\n",
      "[[0.5568628  0.56078434 0.5686275  ... 0.4509804  0.44705883 0.44313726]\n",
      " [0.5568628  0.5647059  0.57254905 ... 0.4509804  0.44705883 0.44705883]\n",
      " [0.5647059  0.5686275  0.5764706  ... 0.45882353 0.45490196 0.4509804 ]\n",
      " ...\n",
      " [0.38431373 0.39215687 0.30980393 ... 0.07843138 0.07058824 0.07843138]\n",
      " [0.30588236 0.34509805 0.23529412 ... 0.07450981 0.06666667 0.07450981]\n",
      " [0.2509804  0.3254902  0.19607843 ... 0.07058824 0.05882353 0.07058824]]\n"
     ]
    },
    {
     "data": {
      "image/png": "[encoded data removed]",
      "text/plain": [
       "<Figure size 432x288 with 1 Axes>"
      ]
     },
     "metadata": {},
     "output_type": "display_data"
    },
    {
     "name": "stderr",
     "output_type": "stream",
     "text": [
      "C:\\Users\\Varsha\\AppData\\Local\\conda\\conda\\envs\\deeplearning\\lib\\site-packages\\ipykernel_launcher.py:20: DeprecationWarning: Both axis > a.ndim and axis < -a.ndim - 1 are deprecated and will raise an AxisError in the future.\n"
     ]
    }
   ],
   "source": [
    "imlist_test = os.listdir(path2+'\\\\'+'test')\n",
    "\n",
    "img_data_list=[]\n",
    "for img in imlist_test:\n",
    "    input_img=cv2.imread(path2 + '\\\\'+ 'test'+ '\\\\' + img )\n",
    "   \n",
    "    input_img=cv2.cvtColor(input_img, cv2.COLOR_BGR2GRAY)\n",
    "    input_img_resize=cv2.resize(input_img,(200,200))\n",
    "    img_data_list.append(input_img_resize)\n",
    "\n",
    "#img_data = np.array(array([array(Image.open(path2 + '\\\\'+'test'+'\\\\'+ imlist[0]))]))\n",
    "img_data = np.array(img_data_list);\n",
    "img_data = img_data.astype('float32')\n",
    "img_data /= 255\n",
    "print (img_data.shape)\n",
    "print(img_data[0])\n",
    "\n",
    "plt.imshow(img_data[10])\n",
    "plt.show()\n",
    "img_data= np.expand_dims(img_data, axis=4) \n",
    "predictions=new_model.predict(img_data)"
   ]
  },
  {
   "cell_type": "code",
   "execution_count": 43,
   "metadata": {},
   "outputs": [
    {
     "name": "stdout",
     "output_type": "stream",
     "text": [
      "4\n"
     ]
    }
   ],
   "source": [
    "print(np.argmax(predictions[1]))\n"
   ]
  },
  {
   "cell_type": "code",
   "execution_count": 58,
   "metadata": {},
   "outputs": [],
   "source": [
    "predictions=new_model.predict(X_test)"
   ]
  },
  {
   "cell_type": "code",
   "execution_count": 59,
   "metadata": {},
   "outputs": [
    {
     "name": "stdout",
     "output_type": "stream",
     "text": [
      "327\n",
      "327\n"
     ]
    }
   ],
   "source": [
    "y_pred = [np.argmax(y, axis=None, out=None) for y in predictions]\n",
    "y_true = [np.argmax(y, axis=None, out=None) for y in y_test]\n",
    "\n",
    "print(len(y_true))\n",
    "print(len(y_pred))\n"
   ]
  },
  {
   "cell_type": "code",
   "execution_count": 60,
   "metadata": {},
   "outputs": [
    {
     "data": {
      "text/plain": [
       "array([[117,   3,   1,   2,   1,   0,   0,   1],\n",
       "       [  0,  25,   0,   0,   0,   0,   0,   0],\n",
       "       [  1,   0,   3,   0,   0,   0,   0,   1],\n",
       "       [  0,   0,   0,  36,   0,   0,   0,   0],\n",
       "       [  0,   0,   0,   0,  20,   0,   0,   0],\n",
       "       [  0,   0,   0,   0,   0,  44,   0,   0],\n",
       "       [  0,   0,   0,   0,   1,   0,  19,   1],\n",
       "       [  2,   0,   0,   0,   0,   0,   0,  49]], dtype=int64)"
      ]
     },
     "execution_count": 60,
     "metadata": {},
     "output_type": "execute_result"
    }
   ],
   "source": [
    "cnf_matrix = confusion_matrix(y_true, y_pred)\n",
    "cnf_matrix"
   ]
  },
  {
   "cell_type": "code",
   "execution_count": 61,
   "metadata": {},
   "outputs": [],
   "source": [
    "def plot_confusion_matrix(cm, classes,\n",
    "                          normalize=False,\n",
    "                          title='Confusion matrix',\n",
    "                          cmap=plt.cm.Blues):\n",
    "    \"\"\"\n",
    "    This function prints and plots the confusion matrix.\n",
    "    Normalization can be applied by setting `normalize=True`.\n",
    "    \"\"\"\n",
    "    if normalize:\n",
    "        cm = cm.astype('float') / cm.sum(axis=1)[:, np.newaxis]\n",
    "        print(\"Normalized confusion matrix\")\n",
    "    else:\n",
    "        print('Confusion matrix, without normalization')\n",
    "\n",
    "    print(cm)\n",
    "\n",
    "    plt.imshow(cm, interpolation='nearest', cmap=cmap)\n",
    "    plt.title(title)\n",
    "    plt.colorbar()\n",
    "    tick_marks = np.arange(len(classes))\n",
    "    plt.xticks(tick_marks, classes, rotation=45)\n",
    "    plt.yticks(tick_marks, classes)\n",
    "\n",
    "    fmt = '.2f' if normalize else 'd'\n",
    "    thresh = cm.max() / 2.\n",
    "    for i, j in itertools.product(range(cm.shape[0]), range(cm.shape[1])):\n",
    "        plt.text(j, i, format(cm[i, j], fmt),\n",
    "                 horizontalalignment=\"center\",\n",
    "                 color=\"white\" if cm[i, j] > thresh else \"black\")\n",
    "\n",
    "    plt.ylabel('True label')\n",
    "    plt.xlabel('Predicted label')\n",
    "    plt.tight_layout()"
   ]
  },
  {
   "cell_type": "code",
   "execution_count": 62,
   "metadata": {},
   "outputs": [],
   "source": [
    "import itertools\n",
    "class_names = []\n",
    "class_names.append('Neutral')\n",
    "class_names.append('Angry')\n",
    "class_names.append('Contempt')\n",
    "class_names.append('Disgust')\n",
    "class_names.append('Fear')\n",
    "class_names.append('Happy')\n",
    "class_names.append('Sad')\n",
    "class_names.append('Surprise')"
   ]
  },
  {
   "cell_type": "code",
   "execution_count": 63,
   "metadata": {},
   "outputs": [
    {
     "name": "stdout",
     "output_type": "stream",
     "text": [
      "Confusion matrix, without normalization\n",
      "[[117   3   1   2   1   0   0   1]\n",
      " [  0  25   0   0   0   0   0   0]\n",
      " [  1   0   3   0   0   0   0   1]\n",
      " [  0   0   0  36   0   0   0   0]\n",
      " [  0   0   0   0  20   0   0   0]\n",
      " [  0   0   0   0   0  44   0   0]\n",
      " [  0   0   0   0   1   0  19   1]\n",
      " [  2   0   0   0   0   0   0  49]]\n"
     ]
    },
    {
     "data": {
      "image/png": "[encoded data removed]",
      "text/plain": [
       "<Figure size 432x288 with 2 Axes>"
      ]
     },
     "metadata": {},
     "output_type": "display_data"
    }
   ],
   "source": [
    "plot_confusion_matrix(cnf_matrix, classes=class_names,\n",
    "                      title='Confusion matrix, without normalization')\n"
   ]
  },
  {
   "cell_type": "code",
   "execution_count": null,
   "metadata": {},
   "outputs": [],
   "source": [
    "# Plot normalized confusion matrix\n",
    "plt.figure()\n",
    "plot_confusion_matrix(cnf_matrix, classes=class_names, normalize=True,\n",
    "                      title='Normalized confusion matrix')\n",
    "\n",
    "plt.show()"
   ]
  }
 ],
 "metadata": {
  "kernelspec": {
   "display_name": "Python 3",
   "language": "python",
   "name": "python3"
  },
  "language_info": {
   "codemirror_mode": {
    "name": "ipython",
    "version": 3
   },
   "file_extension": ".py",
   "mimetype": "text/x-python",
   "name": "python",
   "nbconvert_exporter": "python",
   "pygments_lexer": "ipython3",
   "version": "3.6.5"
  }
 },
 "nbformat": 4,
 "nbformat_minor": 2
}
